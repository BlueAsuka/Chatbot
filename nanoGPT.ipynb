{
 "cells": [
  {
   "cell_type": "code",
   "execution_count": 57,
   "metadata": {},
   "outputs": [],
   "source": [
    "import torch\n",
    "import torch.nn as nn\n",
    "from torch.nn import functional as F\n",
    "\n",
    "import tqdm"
   ]
  },
  {
   "cell_type": "code",
   "execution_count": 64,
   "metadata": {},
   "outputs": [],
   "source": [
    "device = 'cuda' if torch.cuda.is_available() else 'cpu'"
   ]
  },
  {
   "cell_type": "code",
   "execution_count": 4,
   "metadata": {},
   "outputs": [
    {
     "name": "stdout",
     "output_type": "stream",
     "text": [
      "Length of dataset in characters:1115394\n",
      "First Citizen:\n",
      "Before we proceed any further, hear me speak.\n",
      "\n",
      "All:\n",
      "Speak, speak.\n",
      "\n",
      "First Citizen:\n",
      "You\n"
     ]
    }
   ],
   "source": [
    "# Read the file \n",
    "file_path = 'data/tiny_shakespeare.txt'\n",
    "with open(file_path, 'r') as f:\n",
    "    text = f.read()\n",
    "\n",
    "# Show some samples read from the text\n",
    "print(f'Length of dataset in characters:{len(text)}')\n",
    "print(text[:100])"
   ]
  },
  {
   "cell_type": "code",
   "execution_count": 5,
   "metadata": {},
   "outputs": [
    {
     "name": "stdout",
     "output_type": "stream",
     "text": [
      "\n",
      " !$&',-.3:;?ABCDEFGHIJKLMNOPQRSTUVWXYZabcdefghijklmnopqrstuvwxyz\n",
      "65\n"
     ]
    }
   ],
   "source": [
    "# Obtain all unique characters that occur in this text\n",
    "chars = sorted(list(set(text)))\n",
    "vocab_size = len(chars)\n",
    "print(''.join(chars))\n",
    "print(vocab_size)"
   ]
  },
  {
   "attachments": {},
   "cell_type": "markdown",
   "metadata": {},
   "source": [
    "## Tokenization"
   ]
  },
  {
   "cell_type": "code",
   "execution_count": 6,
   "metadata": {},
   "outputs": [
    {
     "name": "stdout",
     "output_type": "stream",
     "text": [
      "[20, 43, 50, 50, 53, 6, 1, 61, 53, 56, 50, 42, 2]\n",
      "Hello, world!\n"
     ]
    }
   ],
   "source": [
    "# Creating a mapping from characters to integers\n",
    "stoi = { ch:i for i, ch in enumerate(chars) }\n",
    "itos = { i:ch for i, ch in enumerate(chars) }\n",
    "\n",
    "# Encode and decode function to convert integers and characters\n",
    "encode = lambda s: [stoi[c] for c in s] # encode: take a string, output a list of integers\n",
    "decode = lambda l: ''.join([itos[i] for i in l]) # decode: take a list of integers, output a string\n",
    "\n",
    "print(encode(\"Hello, world!\"))\n",
    "print(decode(encode(\"Hello, world!\")))"
   ]
  },
  {
   "cell_type": "code",
   "execution_count": 7,
   "metadata": {},
   "outputs": [
    {
     "name": "stdout",
     "output_type": "stream",
     "text": [
      "text tensor shape: torch.Size([1115394])\n",
      "data type in tensor: torch.int64\n",
      "tensor([18, 47, 56, 57, 58,  1, 15, 47, 58, 47, 64, 43, 52, 10,  0, 14, 43, 44,\n",
      "        53, 56, 43,  1, 61, 43,  1, 54, 56, 53, 41, 43, 43, 42,  1, 39, 52, 63,\n",
      "         1, 44, 59, 56, 58, 46, 43, 56,  6,  1, 46, 43, 39, 56,  1, 51, 43,  1,\n",
      "        57, 54, 43, 39, 49,  8,  0,  0, 13, 50, 50, 10,  0, 31, 54, 43, 39, 49,\n",
      "         6,  1, 57, 54, 43, 39, 49,  8,  0,  0, 18, 47, 56, 57, 58,  1, 15, 47,\n",
      "        58, 47, 64, 43, 52, 10,  0, 37, 53, 59])\n"
     ]
    }
   ],
   "source": [
    "# Encode the entire text dataset and store it into a torch.tensor\n",
    "text_tensor = torch.tensor(encode(text), dtype=torch.long)\n",
    "\n",
    "# Show tensor shape and data type in the text tensor\n",
    "print(f'text tensor shape: {text_tensor.shape}')\n",
    "print(f'data type in tensor: {text_tensor.dtype}')\n",
    "print(text_tensor[:100])"
   ]
  },
  {
   "attachments": {},
   "cell_type": "markdown",
   "metadata": {},
   "source": [
    "## Split the dataset"
   ]
  },
  {
   "cell_type": "code",
   "execution_count": 8,
   "metadata": {},
   "outputs": [],
   "source": [
    "def split_dataset(dataset, ratio=0.9):\n",
    "    \"\"\"\n",
    "    Split the dataset into a training set and a testing set\n",
    "\n",
    "    params:\n",
    "    @dataset: the dataset for spliting \n",
    "    @ratio: the ratio of training data in the entire dataset, in default 0.9\n",
    "\n",
    "    return:\n",
    "    @train_data\n",
    "    @test_data\n",
    "    \"\"\"\n",
    "    split_point = int(ratio * len(dataset))\n",
    "    return dataset[:split_point], dataset[split_point:]"
   ]
  },
  {
   "cell_type": "code",
   "execution_count": 9,
   "metadata": {},
   "outputs": [
    {
     "name": "stdout",
     "output_type": "stream",
     "text": [
      "The size of train text: torch.Size([1003854])\n",
      "The size of test text: torch.Size([111540])\n"
     ]
    }
   ],
   "source": [
    "train_text, test_text = split_dataset(text_tensor)\n",
    "print(f'The size of train text: {train_text.shape}')\n",
    "print(f'The size of test text: {test_text.shape}')"
   ]
  },
  {
   "attachments": {},
   "cell_type": "markdown",
   "metadata": {},
   "source": [
    "## Build the training pair"
   ]
  },
  {
   "cell_type": "code",
   "execution_count": 10,
   "metadata": {},
   "outputs": [
    {
     "name": "stdout",
     "output_type": "stream",
     "text": [
      "tensor([18, 47, 56, 57, 58,  1, 15, 47])\n",
      "tensor([47, 56, 57, 58,  1, 15, 47, 58])\n"
     ]
    }
   ],
   "source": [
    "block_size = 8 # The sliding windows for scanning the training text\n",
    "sample_text = train_text[:block_size]\n",
    "next_sample_text = train_text[1:block_size+1]\n",
    "print(sample_text)\n",
    "print(next_sample_text)"
   ]
  },
  {
   "cell_type": "code",
   "execution_count": 11,
   "metadata": {},
   "outputs": [
    {
     "name": "stdout",
     "output_type": "stream",
     "text": [
      "input: tensor([18]), output: 47\n",
      "input: tensor([18, 47]), output: 56\n",
      "input: tensor([18, 47, 56]), output: 57\n",
      "input: tensor([18, 47, 56, 57]), output: 58\n",
      "input: tensor([18, 47, 56, 57, 58]), output: 1\n",
      "input: tensor([18, 47, 56, 57, 58,  1]), output: 15\n",
      "input: tensor([18, 47, 56, 57, 58,  1, 15]), output: 47\n",
      "input: tensor([18, 47, 56, 57, 58,  1, 15, 47]), output: 58\n"
     ]
    }
   ],
   "source": [
    "# The training pair is to make the input and target from the sample text in the following form\n",
    "# 18 => 47\n",
    "# 18, 47 => 56\n",
    "# ...\n",
    "# 18, 47, 56, 57, 58,  1, 15 => 47\n",
    "x = train_text[ :block_size]\n",
    "y = train_text[1:block_size+1]\n",
    "\n",
    "# index: 0   1   2   3   4   5   6   7\n",
    "#   x: [18, 47, 56, 57, 58,  1, 15, 47]\n",
    "#   y: [47, 56, 57, 58,  1, 15, 47, 58]\n",
    "for index in range(block_size):\n",
    "    context = x[:index+1]\n",
    "    target = y[index]\n",
    "    print(f'input: {context}, output: {target}')"
   ]
  },
  {
   "cell_type": "code",
   "execution_count": 12,
   "metadata": {},
   "outputs": [],
   "source": [
    "def get_batch(dataset, block_size, batch_size):\n",
    "    \"\"\"\n",
    "    Create mutiple batch and stack them up into a tensor with size (batch_size, block_size)\n",
    "\n",
    "    params:\n",
    "    @dataset: in which dataset for getting batch\n",
    "    @block_size: \n",
    "    @batch_size:\n",
    "\n",
    "    return:\n",
    "    @x: a tensor in (batch_size, block_size)\n",
    "    @y: a tensor in (batch_size, block_size)\n",
    "    \"\"\"\n",
    "    # Randomly select (batch_size,) starting indexes of each training batch in the text \n",
    "    ix = torch.randint(low=0, high=(len(dataset)-block_size), size=(batch_size,))\n",
    "    x = torch.stack([dataset[i  :i+block_size  ] for i in ix])\n",
    "    y = torch.stack([dataset[i+1:i+block_size+1] for i in ix])\n",
    "    return x, y"
   ]
  },
  {
   "cell_type": "code",
   "execution_count": 13,
   "metadata": {},
   "outputs": [],
   "source": [
    "torch.manual_seed(1337)\n",
    "\n",
    "batch_size = 4\n",
    "block_size = 8\n",
    "\n",
    "inputs, targets = get_batch(train_text, block_size, batch_size)"
   ]
  },
  {
   "cell_type": "code",
   "execution_count": 14,
   "metadata": {},
   "outputs": [
    {
     "name": "stdout",
     "output_type": "stream",
     "text": [
      "inputs:\n",
      "torch.Size([4, 8])\n",
      "tensor([[24, 43, 58,  5, 57,  1, 46, 43],\n",
      "        [44, 53, 56,  1, 58, 46, 39, 58],\n",
      "        [52, 58,  1, 58, 46, 39, 58,  1],\n",
      "        [25, 17, 27, 10,  0, 21,  1, 54]])\n",
      "targets:\n",
      "torch.Size([4, 8])\n",
      "tensor([[43, 58,  5, 57,  1, 46, 43, 39],\n",
      "        [53, 56,  1, 58, 46, 39, 58,  1],\n",
      "        [58,  1, 58, 46, 39, 58,  1, 46],\n",
      "        [17, 27, 10,  0, 21,  1, 54, 39]])\n"
     ]
    }
   ],
   "source": [
    "print('inputs:')\n",
    "print(inputs.shape)\n",
    "print(inputs)\n",
    "print('targets:')\n",
    "print(targets.shape)\n",
    "print(targets)"
   ]
  },
  {
   "cell_type": "code",
   "execution_count": 15,
   "metadata": {},
   "outputs": [
    {
     "name": "stdout",
     "output_type": "stream",
     "text": [
      "inputs: tensor([24]), output: 43\n",
      "inputs: tensor([24, 43]), output: 58\n",
      "inputs: tensor([24, 43, 58]), output: 5\n",
      "inputs: tensor([24, 43, 58,  5]), output: 57\n",
      "inputs: tensor([24, 43, 58,  5, 57]), output: 1\n",
      "inputs: tensor([24, 43, 58,  5, 57,  1]), output: 46\n",
      "inputs: tensor([24, 43, 58,  5, 57,  1, 46]), output: 43\n",
      "inputs: tensor([24, 43, 58,  5, 57,  1, 46, 43]), output: 39\n",
      "inputs: tensor([44]), output: 53\n",
      "inputs: tensor([44, 53]), output: 56\n",
      "inputs: tensor([44, 53, 56]), output: 1\n",
      "inputs: tensor([44, 53, 56,  1]), output: 58\n",
      "inputs: tensor([44, 53, 56,  1, 58]), output: 46\n",
      "inputs: tensor([44, 53, 56,  1, 58, 46]), output: 39\n",
      "inputs: tensor([44, 53, 56,  1, 58, 46, 39]), output: 58\n",
      "inputs: tensor([44, 53, 56,  1, 58, 46, 39, 58]), output: 1\n",
      "inputs: tensor([52]), output: 58\n",
      "inputs: tensor([52, 58]), output: 1\n",
      "inputs: tensor([52, 58,  1]), output: 58\n",
      "inputs: tensor([52, 58,  1, 58]), output: 46\n",
      "inputs: tensor([52, 58,  1, 58, 46]), output: 39\n",
      "inputs: tensor([52, 58,  1, 58, 46, 39]), output: 58\n",
      "inputs: tensor([52, 58,  1, 58, 46, 39, 58]), output: 1\n",
      "inputs: tensor([52, 58,  1, 58, 46, 39, 58,  1]), output: 46\n",
      "inputs: tensor([25]), output: 17\n",
      "inputs: tensor([25, 17]), output: 27\n",
      "inputs: tensor([25, 17, 27]), output: 10\n",
      "inputs: tensor([25, 17, 27, 10]), output: 0\n",
      "inputs: tensor([25, 17, 27, 10,  0]), output: 21\n",
      "inputs: tensor([25, 17, 27, 10,  0, 21]), output: 1\n",
      "inputs: tensor([25, 17, 27, 10,  0, 21,  1]), output: 54\n",
      "inputs: tensor([25, 17, 27, 10,  0, 21,  1, 54]), output: 39\n"
     ]
    }
   ],
   "source": [
    "for b in range(batch_size):\n",
    "    for i in range(block_size):\n",
    "        context = inputs[b, :i+1]\n",
    "        target = targets[b, i]\n",
    "        print(f'inputs: {context}, output: {target}')"
   ]
  },
  {
   "cell_type": "code",
   "execution_count": 44,
   "metadata": {},
   "outputs": [],
   "source": [
    "class BigramLanguageModel(nn.Module):\n",
    "    \"\"\"\n",
    "    Use bigram model to predict next token in the text\n",
    "    for example, given a encoded batch [43, 58,  5, 57,  1, 46, 43, 39]\n",
    "    the bigram means to extrac pairs like 43=>58, 58=>5, 5=>57, ... , 43=>39 \n",
    "    The prediction of next token only depends on the previous one \n",
    "    \"\"\"\n",
    "    def __init__(self, vocab_size) -> None:\n",
    "        super().__init__()\n",
    "        # each token directly reads off the logits for the next token from a lookup table\n",
    "        self.token_embedding_table = nn.Embedding(vocab_size, vocab_size)\n",
    "\n",
    "    def forward(self, inputs, targets=None):\n",
    "        # both inputs and targets are tensor in shape (batch_size, block_size)\n",
    "        # The logits can be regarded as a score table of the next token in the entire vocabulary set  \n",
    "        logits = self.token_embedding_table(inputs) # (B, T, C)\n",
    "        \n",
    "        if targets is None:\n",
    "            loss = None\n",
    "        else:\n",
    "            B, T, C = logits.shape\n",
    "            logits = logits.view(B*T, C) \n",
    "            targets = targets.view(B*T)\n",
    "            loss = F.cross_entropy(logits, targets) # Use the cross_entropy to compute the loss\n",
    "\n",
    "        return logits, loss\n",
    "\n",
    "    def generate(self, idx, max_new_tokens):\n",
    "        for _ in range(max_new_tokens):\n",
    "            logits, loss = self(idx)\n",
    "            logits = logits[:, -1, :]\n",
    "            probs = F.softmax(logits, dim=-1)\n",
    "            idx_next = torch.multinomial(probs, num_samples=1)\n",
    "            idx = torch.cat((idx, idx_next), dim=1)\n",
    "        return idx\n",
    "            "
   ]
  },
  {
   "cell_type": "code",
   "execution_count": 45,
   "metadata": {},
   "outputs": [
    {
     "name": "stdout",
     "output_type": "stream",
     "text": [
      "torch.Size([32, 65])\n",
      "4.878634929656982\n"
     ]
    }
   ],
   "source": [
    "torch.manual_seed(1337)\n",
    "\n",
    "blm = BigramLanguageModel(vocab_size)\n",
    "logits, loss = blm(inputs, targets)\n",
    "print(logits.shape)\n",
    "print(loss.item())"
   ]
  },
  {
   "cell_type": "code",
   "execution_count": 52,
   "metadata": {},
   "outputs": [
    {
     "data": {
      "text/plain": [
       "\"\\nDphq-.IsCwbjxca;P-KA:r'a;pJ&q-UgOEX.cAO-p,lQ?nEsrlvmUgbEQLQh,j;iPlgZR:CJpxIBju f&!BBEHSPmnq,P -d\\npju\""
      ]
     },
     "execution_count": 52,
     "metadata": {},
     "output_type": "execute_result"
    }
   ],
   "source": [
    "idx = torch.zeros((1, 1), dtype=torch.long)\n",
    "generated_tensor = blm.generate(idx, max_new_tokens=100).squeeze().tolist()\n",
    "decode(generated_tensor)"
   ]
  },
  {
   "cell_type": "code",
   "execution_count": 53,
   "metadata": {},
   "outputs": [],
   "source": [
    "# Create a pytorch optimizer\n",
    "optimizer = torch.optim.AdamW(blm.parameters(), lr=1e-3)"
   ]
  },
  {
   "cell_type": "code",
   "execution_count": 54,
   "metadata": {},
   "outputs": [
    {
     "name": "stdout",
     "output_type": "stream",
     "text": [
      "4.716796875\n",
      "3.774552583694458\n",
      "3.1031713485717773\n",
      "2.7186434268951416\n",
      "2.6022653579711914\n",
      "2.569850444793701\n",
      "2.5617449283599854\n",
      "2.494694471359253\n",
      "2.652863025665283\n",
      "2.6305291652679443\n",
      "2.441178321838379\n",
      "2.4715094566345215\n",
      "2.3911445140838623\n",
      "2.4558699131011963\n",
      "2.408242702484131\n",
      "2.410507917404175\n",
      "2.462000846862793\n",
      "2.57413649559021\n",
      "2.434818744659424\n",
      "2.35010027885437\n",
      "2.3581395149230957\n",
      "2.506747245788574\n",
      "2.424957752227783\n",
      "2.4469985961914062\n",
      "2.484031915664673\n",
      "2.4075565338134766\n",
      "2.521646738052368\n",
      "2.4890687465667725\n",
      "2.5184054374694824\n",
      "2.3834164142608643\n",
      "2.665809392929077\n",
      "2.5752968788146973\n",
      "2.3176233768463135\n",
      "2.4029269218444824\n",
      "2.4619038105010986\n",
      "2.550365447998047\n",
      "2.4382266998291016\n",
      "2.480177640914917\n",
      "2.5165863037109375\n",
      "2.295788288116455\n",
      "2.5459280014038086\n",
      "2.414959669113159\n",
      "2.468573808670044\n",
      "2.4739668369293213\n",
      "2.5384068489074707\n",
      "2.5774240493774414\n",
      "2.5335240364074707\n",
      "2.456674575805664\n",
      "2.514296531677246\n",
      "2.344801902770996\n",
      "2.3552749156951904\n",
      "2.4615910053253174\n",
      "2.4427225589752197\n",
      "2.348740816116333\n",
      "2.437067747116089\n",
      "2.4854736328125\n",
      "2.4880824089050293\n",
      "2.421720266342163\n",
      "2.574406385421753\n",
      "2.3942642211914062\n",
      "2.3580703735351562\n",
      "2.4892396926879883\n",
      "2.5373270511627197\n",
      "2.4333465099334717\n",
      "2.4669830799102783\n",
      "2.521286725997925\n",
      "2.3975796699523926\n",
      "2.3551998138427734\n",
      "2.6202573776245117\n",
      "2.4072813987731934\n",
      "2.3870084285736084\n",
      "2.516866445541382\n",
      "2.5551998615264893\n",
      "2.5370748043060303\n",
      "2.574899196624756\n",
      "2.525221347808838\n",
      "2.2938830852508545\n",
      "2.5175063610076904\n",
      "2.415663719177246\n",
      "2.455751657485962\n",
      "2.3009235858917236\n",
      "2.49873685836792\n",
      "2.5049848556518555\n",
      "2.5162017345428467\n",
      "2.542091131210327\n",
      "2.429198980331421\n",
      "2.4929375648498535\n",
      "2.507319927215576\n",
      "2.4655911922454834\n",
      "2.4025237560272217\n",
      "2.38688063621521\n",
      "2.4632749557495117\n",
      "2.483921527862549\n",
      "2.4567437171936035\n",
      "2.3610377311706543\n",
      "2.407399892807007\n",
      "2.389256238937378\n",
      "2.5312819480895996\n",
      "2.534980297088623\n",
      "2.4213945865631104\n"
     ]
    }
   ],
   "source": [
    "batch_size = 32\n",
    "for step in tqdm(range(100000)):\n",
    "    # sample from the train text\n",
    "    xb, yb = get_batch(train_text, block_size=8, batch_size=batch_size)\n",
    "\n",
    "    # evaluate the loss\n",
    "    logits, loss = blm(xb, yb)\n",
    "    optimizer.zero_grad(set_to_none=True)\n",
    "    loss.backward()\n",
    "    optimizer.step()\n",
    "\n",
    "    if step % 5000 == 0:\n",
    "        print(f'step: {step}, loss: {loss.item()}')"
   ]
  },
  {
   "cell_type": "code",
   "execution_count": 62,
   "metadata": {},
   "outputs": [
    {
     "name": "stdout",
     "output_type": "stream",
     "text": [
      "\n",
      "\n",
      "Na m nesoure d:\n",
      "Gie g\n",
      "Nougore ENor,'dinowinowintrur:\n",
      "Hairsivan's fatiren ly,\n",
      "ABr berther p anstepre?\n",
      "A:\n",
      "Angsursupo---\n",
      "TItithanfo tatonound lerouple thire phal th ie, ivee brm lf ancin,\n",
      "KIILAUSThine th thinode sisur til,\n",
      "Mundellouit Loutly t heak;\n",
      "Lothitomy tif hes speath dothas n t I an.\n",
      "GBI:'st wit on hulye, d soo wiqus ilou y We t ave th rhen me. tit weroutcat be dont contingeef neno rar char ngs lordve berple farthtoncr\n",
      "Whue ixt fot,\n",
      "ANANER prer h?\n",
      "Whalous pere?\n",
      "'Trimo,\n",
      "Whourend, pend s ang \n"
     ]
    }
   ],
   "source": [
    "print(decode(blm.generate(torch.zeros((1, 1), dtype=torch.long), max_new_tokens=500).squeeze().tolist()))"
   ]
  },
  {
   "cell_type": "code",
   "execution_count": null,
   "metadata": {},
   "outputs": [],
   "source": []
  }
 ],
 "metadata": {
  "kernelspec": {
   "display_name": "ml",
   "language": "python",
   "name": "python3"
  },
  "language_info": {
   "codemirror_mode": {
    "name": "ipython",
    "version": 3
   },
   "file_extension": ".py",
   "mimetype": "text/x-python",
   "name": "python",
   "nbconvert_exporter": "python",
   "pygments_lexer": "ipython3",
   "version": "3.7.11 (default, Jul 27 2021, 14:32:16) \n[GCC 7.5.0]"
  },
  "orig_nbformat": 4,
  "vscode": {
   "interpreter": {
    "hash": "000551e098f90313e8f17fe47748c047b10fda8ecfbf7323ac9a6cbe70405586"
   }
  }
 },
 "nbformat": 4,
 "nbformat_minor": 2
}
