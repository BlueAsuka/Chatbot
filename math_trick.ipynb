{
 "cells": [
  {
   "cell_type": "code",
   "execution_count": 23,
   "metadata": {},
   "outputs": [],
   "source": [
    "import torch\n",
    "import torch.nn.functional as F"
   ]
  },
  {
   "cell_type": "code",
   "execution_count": 4,
   "metadata": {},
   "outputs": [
    {
     "data": {
      "text/plain": [
       "<torch._C.Generator at 0x7f1204726c90>"
      ]
     },
     "execution_count": 4,
     "metadata": {},
     "output_type": "execute_result"
    }
   ],
   "source": [
    "torch.manual_seed(1337)"
   ]
  },
  {
   "cell_type": "code",
   "execution_count": 6,
   "metadata": {},
   "outputs": [
    {
     "data": {
      "text/plain": [
       "torch.Size([4, 8, 2])"
      ]
     },
     "execution_count": 6,
     "metadata": {},
     "output_type": "execute_result"
    }
   ],
   "source": [
    "# B := minibatch\n",
    "# T := time steps\n",
    "# C := channel (embedded space dimensions)\n",
    "B, T, C = 4, 8, 2 \n",
    "x = torch.randn(B, T, C)\n",
    "x.shape"
   ]
  },
  {
   "cell_type": "code",
   "execution_count": 8,
   "metadata": {},
   "outputs": [],
   "source": [
    "# Calculate mean value to allow communication among tokens in different time steps\n",
    "xbow = torch.zeros(B, T, C)\n",
    "for b in range(B):\n",
    "    for t in range(T):\n",
    "        xprev = x[b, :t+1] # The shape is (t, C)\n",
    "        xbow[b, t] = torch.mean(xprev, dim=0)"
   ]
  },
  {
   "cell_type": "code",
   "execution_count": 12,
   "metadata": {},
   "outputs": [
    {
     "name": "stdout",
     "output_type": "stream",
     "text": [
      "Origin: tensor([[-0.8345,  0.5978],\n",
      "        [-0.0514, -0.0646],\n",
      "        [-0.4970,  0.4658],\n",
      "        [-0.2573, -1.0673],\n",
      "        [ 2.0089, -0.5370],\n",
      "        [ 0.2228,  0.6971],\n",
      "        [-1.4267,  0.9059],\n",
      "        [ 0.1446,  0.2280]])\n",
      "Average: tensor([[-0.8345,  0.5978],\n",
      "        [-0.4429,  0.2666],\n",
      "        [-0.4610,  0.3330],\n",
      "        [-0.4100, -0.0171],\n",
      "        [ 0.0738, -0.1210],\n",
      "        [ 0.0986,  0.0153],\n",
      "        [-0.1193,  0.1425],\n",
      "        [-0.0863,  0.1532]])\n"
     ]
    }
   ],
   "source": [
    "print(f'Origin: {x[0]}')\n",
    "print(f'Average: {xbow[0]}')"
   ]
  },
  {
   "cell_type": "code",
   "execution_count": 14,
   "metadata": {},
   "outputs": [
    {
     "name": "stdout",
     "output_type": "stream",
     "text": [
      "a=\n",
      "tensor([[1., 1., 1.],\n",
      "        [1., 1., 1.],\n",
      "        [1., 1., 1.]])\n",
      "--------\n",
      "b=\n",
      "tensor([[3., 1.],\n",
      "        [7., 9.],\n",
      "        [6., 1.]])\n",
      "--------\n",
      "c=\n",
      "tensor([[16., 11.],\n",
      "        [16., 11.],\n",
      "        [16., 11.]])\n"
     ]
    }
   ],
   "source": [
    "# Use matrix mutiplication to make the averaging process more efficient\n",
    "a = torch.ones(3, 3)\n",
    "b = torch.randint(0, 10, (3, 2)).float()\n",
    "c = a @ b\n",
    "print('a=')\n",
    "print(a)\n",
    "print('--------')\n",
    "print('b=')\n",
    "print(b)\n",
    "print('--------')\n",
    "print('c=')\n",
    "print(c)"
   ]
  },
  {
   "cell_type": "code",
   "execution_count": 15,
   "metadata": {},
   "outputs": [
    {
     "name": "stdout",
     "output_type": "stream",
     "text": [
      "a=\n",
      "tensor([[1., 0., 0.],\n",
      "        [1., 1., 0.],\n",
      "        [1., 1., 1.]])\n",
      "--------\n",
      "b=\n",
      "tensor([[5., 4.],\n",
      "        [6., 1.],\n",
      "        [1., 5.]])\n",
      "--------\n",
      "c=\n",
      "tensor([[ 5.,  4.],\n",
      "        [11.,  5.],\n",
      "        [12., 10.]])\n"
     ]
    }
   ],
   "source": [
    "# Use triangular matrix to control the number of token for averaging\n",
    "a = torch.tril(torch.ones(3, 3))\n",
    "b = torch.randint(0, 10, (3, 2)).float()\n",
    "c = a @ b\n",
    "print('a=')\n",
    "print(a)\n",
    "print('--------')\n",
    "print('b=')\n",
    "print(b)\n",
    "print('--------')\n",
    "print('c=')\n",
    "print(c)"
   ]
  },
  {
   "cell_type": "code",
   "execution_count": 16,
   "metadata": {},
   "outputs": [
    {
     "name": "stdout",
     "output_type": "stream",
     "text": [
      "a=\n",
      "tensor([[1.0000, 0.0000, 0.0000],\n",
      "        [0.5000, 0.5000, 0.0000],\n",
      "        [0.3333, 0.3333, 0.3333]])\n",
      "--------\n",
      "b=\n",
      "tensor([[1., 4.],\n",
      "        [9., 2.],\n",
      "        [5., 0.]])\n",
      "--------\n",
      "c=\n",
      "tensor([[1., 4.],\n",
      "        [5., 3.],\n",
      "        [5., 2.]])\n"
     ]
    }
   ],
   "source": [
    "# Average the item in the triangular matrix to average the tokens\n",
    "a = torch.tril(torch.ones(3, 3))\n",
    "a = a / torch.sum(a, dim=1, keepdim=True)\n",
    "b = torch.randint(0, 10, (3, 2)).float()\n",
    "c = a @ b\n",
    "print('a=')\n",
    "print(a)\n",
    "print('--------')\n",
    "print('b=')\n",
    "print(b)\n",
    "print('--------')\n",
    "print('c=')\n",
    "print(c)"
   ]
  },
  {
   "cell_type": "code",
   "execution_count": 17,
   "metadata": {},
   "outputs": [
    {
     "data": {
      "text/plain": [
       "tensor([[1.0000, 0.0000, 0.0000, 0.0000, 0.0000, 0.0000, 0.0000, 0.0000],\n",
       "        [0.5000, 0.5000, 0.0000, 0.0000, 0.0000, 0.0000, 0.0000, 0.0000],\n",
       "        [0.3333, 0.3333, 0.3333, 0.0000, 0.0000, 0.0000, 0.0000, 0.0000],\n",
       "        [0.2500, 0.2500, 0.2500, 0.2500, 0.0000, 0.0000, 0.0000, 0.0000],\n",
       "        [0.2000, 0.2000, 0.2000, 0.2000, 0.2000, 0.0000, 0.0000, 0.0000],\n",
       "        [0.1667, 0.1667, 0.1667, 0.1667, 0.1667, 0.1667, 0.0000, 0.0000],\n",
       "        [0.1429, 0.1429, 0.1429, 0.1429, 0.1429, 0.1429, 0.1429, 0.0000],\n",
       "        [0.1250, 0.1250, 0.1250, 0.1250, 0.1250, 0.1250, 0.1250, 0.1250]])"
      ]
     },
     "execution_count": 17,
     "metadata": {},
     "output_type": "execute_result"
    }
   ],
   "source": [
    "weight = torch.tril(torch.ones(T, T))\n",
    "weight = weight / torch.sum(weight, dim=1, keepdim=True)\n",
    "weight"
   ]
  },
  {
   "cell_type": "code",
   "execution_count": 21,
   "metadata": {},
   "outputs": [],
   "source": [
    "xbow2 = weight @ x"
   ]
  },
  {
   "cell_type": "code",
   "execution_count": 37,
   "metadata": {},
   "outputs": [
    {
     "name": "stdout",
     "output_type": "stream",
     "text": [
      "tensor([[-0.8345,  0.5978],\n",
      "        [-0.4429,  0.2666],\n",
      "        [-0.4610,  0.3330],\n",
      "        [-0.4100, -0.0171],\n",
      "        [ 0.0738, -0.1210],\n",
      "        [ 0.0986,  0.0153],\n",
      "        [-0.1193,  0.1425],\n",
      "        [-0.0863,  0.1532]])\n",
      "tensor([[-0.8345,  0.5978],\n",
      "        [-0.4429,  0.2666],\n",
      "        [-0.4610,  0.3330],\n",
      "        [-0.4100, -0.0171],\n",
      "        [ 0.0738, -0.1210],\n",
      "        [ 0.0986,  0.0153],\n",
      "        [-0.1193,  0.1425],\n",
      "        [-0.0863,  0.1532]])\n"
     ]
    },
    {
     "data": {
      "text/plain": [
       "True"
      ]
     },
     "execution_count": 37,
     "metadata": {},
     "output_type": "execute_result"
    }
   ],
   "source": [
    "print(xbow[0])\n",
    "print(xbow2[0])\n",
    "torch.allclose(xbow, xbow2)"
   ]
  },
  {
   "cell_type": "code",
   "execution_count": 34,
   "metadata": {},
   "outputs": [
    {
     "name": "stdout",
     "output_type": "stream",
     "text": [
      "masked triangular matrix: \n",
      "tensor([[1., 0., 0., 0., 0., 0., 0., 0.],\n",
      "        [1., 1., 0., 0., 0., 0., 0., 0.],\n",
      "        [1., 1., 1., 0., 0., 0., 0., 0.],\n",
      "        [1., 1., 1., 1., 0., 0., 0., 0.],\n",
      "        [1., 1., 1., 1., 1., 0., 0., 0.],\n",
      "        [1., 1., 1., 1., 1., 1., 0., 0.],\n",
      "        [1., 1., 1., 1., 1., 1., 1., 0.],\n",
      "        [1., 1., 1., 1., 1., 1., 1., 1.]])\n",
      "w_t with -inf:\n",
      "tensor([[0., -inf, -inf, -inf, -inf, -inf, -inf, -inf],\n",
      "        [0., 0., -inf, -inf, -inf, -inf, -inf, -inf],\n",
      "        [0., 0., 0., -inf, -inf, -inf, -inf, -inf],\n",
      "        [0., 0., 0., 0., -inf, -inf, -inf, -inf],\n",
      "        [0., 0., 0., 0., 0., -inf, -inf, -inf],\n",
      "        [0., 0., 0., 0., 0., 0., -inf, -inf],\n",
      "        [0., 0., 0., 0., 0., 0., 0., -inf],\n",
      "        [0., 0., 0., 0., 0., 0., 0., 0.]])\n",
      "w_t with softmax:\n",
      "tensor([[1.0000, 0.0000, 0.0000, 0.0000, 0.0000, 0.0000, 0.0000, 0.0000],\n",
      "        [0.5000, 0.5000, 0.0000, 0.0000, 0.0000, 0.0000, 0.0000, 0.0000],\n",
      "        [0.3333, 0.3333, 0.3333, 0.0000, 0.0000, 0.0000, 0.0000, 0.0000],\n",
      "        [0.2500, 0.2500, 0.2500, 0.2500, 0.0000, 0.0000, 0.0000, 0.0000],\n",
      "        [0.2000, 0.2000, 0.2000, 0.2000, 0.2000, 0.0000, 0.0000, 0.0000],\n",
      "        [0.1667, 0.1667, 0.1667, 0.1667, 0.1667, 0.1667, 0.0000, 0.0000],\n",
      "        [0.1429, 0.1429, 0.1429, 0.1429, 0.1429, 0.1429, 0.1429, 0.0000],\n",
      "        [0.1250, 0.1250, 0.1250, 0.1250, 0.1250, 0.1250, 0.1250, 0.1250]])\n"
     ]
    }
   ],
   "source": [
    "# An update for assigning physical meaning for the matrix\n",
    "masked_tril = torch.tril(torch.ones(T, T))\n",
    "print(f'masked triangular matrix: ')\n",
    "print(masked_tril)\n",
    "\n",
    "w_t = torch.zeros((masked_tril.shape))\n",
    "\n",
    "# Maske the weight matrix with -inf according to the masked triangular matrix\n",
    "# '-inf' means the future tokens cannot communicate with previous tokens\n",
    "w_t = w_t.masked_fill(masked_tril==0, float('-inf'))\n",
    "print(f'w_t with -inf:')\n",
    "print(w_t)\n",
    "\n",
    "# Use Softmax to make all items in a same row sum up to 1\n",
    "w_t = F.softmax(w_t, dim=1)\n",
    "print(f'w_t with softmax:')\n",
    "print(w_t)"
   ]
  },
  {
   "cell_type": "code",
   "execution_count": 36,
   "metadata": {},
   "outputs": [
    {
     "name": "stdout",
     "output_type": "stream",
     "text": [
      "tensor([[-0.8345,  0.5978],\n",
      "        [-0.4429,  0.2666],\n",
      "        [-0.4610,  0.3330],\n",
      "        [-0.4100, -0.0171],\n",
      "        [ 0.0738, -0.1210],\n",
      "        [ 0.0986,  0.0153],\n",
      "        [-0.1193,  0.1425],\n",
      "        [-0.0863,  0.1532]])\n",
      "tensor([[-0.8345,  0.5978],\n",
      "        [-0.4429,  0.2666],\n",
      "        [-0.4610,  0.3330],\n",
      "        [-0.4100, -0.0171],\n",
      "        [ 0.0738, -0.1210],\n",
      "        [ 0.0986,  0.0153],\n",
      "        [-0.1193,  0.1425],\n",
      "        [-0.0863,  0.1532]])\n"
     ]
    },
    {
     "data": {
      "text/plain": [
       "True"
      ]
     },
     "execution_count": 36,
     "metadata": {},
     "output_type": "execute_result"
    }
   ],
   "source": [
    "xbow3 = w_t @ x\n",
    "print(xbow[0])\n",
    "print(xbow3[0])\n",
    "torch.allclose(xbow, xbow3)"
   ]
  },
  {
   "cell_type": "code",
   "execution_count": null,
   "metadata": {},
   "outputs": [],
   "source": []
  }
 ],
 "metadata": {
  "kernelspec": {
   "display_name": "ml",
   "language": "python",
   "name": "python3"
  },
  "language_info": {
   "codemirror_mode": {
    "name": "ipython",
    "version": 3
   },
   "file_extension": ".py",
   "mimetype": "text/x-python",
   "name": "python",
   "nbconvert_exporter": "python",
   "pygments_lexer": "ipython3",
   "version": "3.7.11"
  },
  "orig_nbformat": 4,
  "vscode": {
   "interpreter": {
    "hash": "000551e098f90313e8f17fe47748c047b10fda8ecfbf7323ac9a6cbe70405586"
   }
  }
 },
 "nbformat": 4,
 "nbformat_minor": 2
}
